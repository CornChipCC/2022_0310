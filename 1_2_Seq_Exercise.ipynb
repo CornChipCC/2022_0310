{
 "cells": [
  {
   "cell_type": "markdown",
   "metadata": {
    "id": "keUh6GP3UUZK"
   },
   "source": [
    "# Keras로 Linear&Logistic Regression 조금 더 맛보기"
   ]
  },
  {
   "cell_type": "code",
   "execution_count": 1,
   "metadata": {
    "id": "hHMVH_IRUffh"
   },
   "outputs": [],
   "source": [
    "import tensorflow as tf\n",
    "from tensorflow import keras\n",
    "\n",
    "import numpy as np\n",
    "import pandas as pd"
   ]
  },
  {
   "cell_type": "markdown",
   "metadata": {
    "id": "usKNktcHU7Ey"
   },
   "source": [
    "# Linear Regression on 쬐금 더 어려운 데이터"
   ]
  },
  {
   "cell_type": "code",
   "execution_count": 2,
   "metadata": {
    "id": "BVEo_dbtWYRw"
   },
   "outputs": [],
   "source": [
    "from sklearn.datasets import load_boston"
   ]
  },
  {
   "cell_type": "code",
   "execution_count": 3,
   "metadata": {
    "id": "bfEYfAjuWfYV"
   },
   "outputs": [
    {
     "name": "stderr",
     "output_type": "stream",
     "text": [
      "C:\\Users\\User\\anaconda3\\lib\\site-packages\\sklearn\\utils\\deprecation.py:87: FutureWarning: Function load_boston is deprecated; `load_boston` is deprecated in 1.0 and will be removed in 1.2.\n",
      "\n",
      "    The Boston housing prices dataset has an ethical problem. You can refer to\n",
      "    the documentation of this function for further details.\n",
      "\n",
      "    The scikit-learn maintainers therefore strongly discourage the use of this\n",
      "    dataset unless the purpose of the code is to study and educate about\n",
      "    ethical issues in data science and machine learning.\n",
      "\n",
      "    In this special case, you can fetch the dataset from the original\n",
      "    source::\n",
      "\n",
      "        import pandas as pd\n",
      "        import numpy as np\n",
      "\n",
      "\n",
      "        data_url = \"http://lib.stat.cmu.edu/datasets/boston\"\n",
      "        raw_df = pd.read_csv(data_url, sep=\"\\s+\", skiprows=22, header=None)\n",
      "        data = np.hstack([raw_df.values[::2, :], raw_df.values[1::2, :2]])\n",
      "        target = raw_df.values[1::2, 2]\n",
      "\n",
      "    Alternative datasets include the California housing dataset (i.e.\n",
      "    :func:`~sklearn.datasets.fetch_california_housing`) and the Ames housing\n",
      "    dataset. You can load the datasets as follows::\n",
      "\n",
      "        from sklearn.datasets import fetch_california_housing\n",
      "        housing = fetch_california_housing()\n",
      "\n",
      "    for the California housing dataset and::\n",
      "\n",
      "        from sklearn.datasets import fetch_openml\n",
      "        housing = fetch_openml(name=\"house_prices\", as_frame=True)\n",
      "\n",
      "    for the Ames housing dataset.\n",
      "    \n",
      "  warnings.warn(msg, category=FutureWarning)\n"
     ]
    }
   ],
   "source": [
    "boston = load_boston()"
   ]
  },
  {
   "cell_type": "code",
   "execution_count": 4,
   "metadata": {
    "id": "kIYkQ9CmWglQ"
   },
   "outputs": [
    {
     "data": {
      "text/plain": [
       "((506, 13), (506,))"
      ]
     },
     "execution_count": 4,
     "metadata": {},
     "output_type": "execute_result"
    }
   ],
   "source": [
    "x = boston.data\n",
    "y = boston.target\n",
    "\n",
    "x.shape, y.shape"
   ]
  },
  {
   "cell_type": "code",
   "execution_count": 9,
   "metadata": {
    "id": "wcp6Y_5LWiFz"
   },
   "outputs": [],
   "source": [
    "# 1번 청소 : 이미 만들어진 모델이 있다면 그 모델을 없애줘\n",
    "keras.backend.clear_session()\n",
    "\n",
    "# 2번 모델 선언\n",
    "model = keras.models.Sequential()\n",
    "\n",
    "# 3번 모델 블록 조립\n",
    "model.add( keras.layers.Input(shape=(13,)) )\n",
    "model.add( keras.layers.Dense(1) )\n",
    "\n",
    "## 오리지널 Sequential API\n",
    "# model.add( keras.layers.Dense(1, input_shape=(13,)) )\n",
    "\n",
    "# 4번 컴파일 \n",
    "model.compile(loss='mse',                #   loss = keras.losses.mean_squared_error\n",
    "              optimizer='adam')          #   optimizer = keras.optimizers.Adam()\n"
   ]
  },
  {
   "cell_type": "code",
   "execution_count": 10,
   "metadata": {
    "id": "txzwhxFlWoxF"
   },
   "outputs": [
    {
     "name": "stdout",
     "output_type": "stream",
     "text": [
      "Epoch 1/10\n",
      "16/16 [==============================] - 0s 2ms/step - loss: 119870.3672\n",
      "Epoch 2/10\n",
      "16/16 [==============================] - 0s 2ms/step - loss: 109944.6328\n",
      "Epoch 3/10\n",
      "16/16 [==============================] - 0s 2ms/step - loss: 100622.3594\n",
      "Epoch 4/10\n",
      "16/16 [==============================] - 0s 2ms/step - loss: 91894.5859\n",
      "Epoch 5/10\n",
      "16/16 [==============================] - 0s 2ms/step - loss: 83727.0781\n",
      "Epoch 6/10\n",
      "16/16 [==============================] - 0s 2ms/step - loss: 76167.1484\n",
      "Epoch 7/10\n",
      "16/16 [==============================] - 0s 2ms/step - loss: 69144.6797\n",
      "Epoch 8/10\n",
      "16/16 [==============================] - 0s 1ms/step - loss: 62640.2461\n",
      "Epoch 9/10\n",
      "16/16 [==============================] - 0s 2ms/step - loss: 56599.3164\n",
      "Epoch 10/10\n",
      "16/16 [==============================] - 0s 2ms/step - loss: 51143.9883\n"
     ]
    },
    {
     "data": {
      "text/plain": [
       "<keras.callbacks.History at 0x22ad3ed1c40>"
      ]
     },
     "execution_count": 10,
     "metadata": {},
     "output_type": "execute_result"
    }
   ],
   "source": [
    "model.fit(x, y, epochs=10, verbose=1)"
   ]
  },
  {
   "cell_type": "code",
   "execution_count": 11,
   "metadata": {},
   "outputs": [
    {
     "data": {
      "text/plain": [
       "array([-187.70201, -181.18973, -188.62508, -192.41537, -189.15085],\n",
       "      dtype=float32)"
      ]
     },
     "execution_count": 11,
     "metadata": {},
     "output_type": "execute_result"
    }
   ],
   "source": [
    "y_pred = model.predict(x)\n",
    "y_pred[:5].reshape(-1)"
   ]
  },
  {
   "cell_type": "code",
   "execution_count": 12,
   "metadata": {},
   "outputs": [
    {
     "data": {
      "text/plain": [
       "array([24. , 21.6, 34.7, 33.4, 36.2])"
      ]
     },
     "execution_count": 12,
     "metadata": {},
     "output_type": "execute_result"
    }
   ],
   "source": [
    "y[:5].reshape(-1)"
   ]
  },
  {
   "cell_type": "code",
   "execution_count": null,
   "metadata": {},
   "outputs": [],
   "source": []
  },
  {
   "cell_type": "code",
   "execution_count": null,
   "metadata": {},
   "outputs": [],
   "source": []
  },
  {
   "cell_type": "markdown",
   "metadata": {
    "id": "2WKWxkFcWuIS"
   },
   "source": [
    "# Logistic Regression 쬐금 더 어려운 데이터"
   ]
  },
  {
   "cell_type": "code",
   "execution_count": 14,
   "metadata": {
    "id": "tcpM1yMBXPMV"
   },
   "outputs": [],
   "source": [
    "from sklearn.datasets import load_breast_cancer"
   ]
  },
  {
   "cell_type": "code",
   "execution_count": 15,
   "metadata": {
    "id": "kywnQJlHXZCg"
   },
   "outputs": [],
   "source": [
    "cancer = load_breast_cancer()"
   ]
  },
  {
   "cell_type": "code",
   "execution_count": 18,
   "metadata": {
    "id": "Fbgs4YZrXcCB"
   },
   "outputs": [
    {
     "data": {
      "text/plain": [
       "((569, 30), (569,))"
      ]
     },
     "execution_count": 18,
     "metadata": {},
     "output_type": "execute_result"
    }
   ],
   "source": [
    "x = cancer.data\n",
    "y = cancer.target\n",
    "x.shape, y.shape\n",
    "# 모양 확인해볼 것"
   ]
  },
  {
   "cell_type": "code",
   "execution_count": 21,
   "metadata": {
    "id": "8VXrsX4_Xgrl"
   },
   "outputs": [],
   "source": [
    "keras.backend.clear_session()\n",
    "\n",
    "model = keras.models.Sequential()\n",
    "\n",
    "model.add(keras.layers.Input(shape = (30,)))\n",
    "model.add(keras.layers.Dense(1, activation = 'sigmoid'))\n",
    "\n",
    "model.compile(loss = 'binary_crossentropy',\n",
    "             optimizer = 'adam',\n",
    "             metrics=['accuracy'])"
   ]
  },
  {
   "cell_type": "code",
   "execution_count": 22,
   "metadata": {
    "id": "QWWM_b7UXhQT"
   },
   "outputs": [
    {
     "name": "stdout",
     "output_type": "stream",
     "text": [
      "Epoch 1/10\n",
      "18/18 [==============================] - 0s 2ms/step - loss: 178.0808 - accuracy: 0.3726\n",
      "Epoch 2/10\n",
      "18/18 [==============================] - 0s 2ms/step - loss: 163.8217 - accuracy: 0.3726\n",
      "Epoch 3/10\n",
      "18/18 [==============================] - 0s 2ms/step - loss: 149.6758 - accuracy: 0.3726\n",
      "Epoch 4/10\n",
      "18/18 [==============================] - 0s 2ms/step - loss: 135.1841 - accuracy: 0.3726\n",
      "Epoch 5/10\n",
      "18/18 [==============================] - 0s 2ms/step - loss: 120.8881 - accuracy: 0.3726\n",
      "Epoch 6/10\n",
      "18/18 [==============================] - 0s 2ms/step - loss: 106.7640 - accuracy: 0.3726\n",
      "Epoch 7/10\n",
      "18/18 [==============================] - 0s 2ms/step - loss: 92.3306 - accuracy: 0.3726\n",
      "Epoch 8/10\n",
      "18/18 [==============================] - 0s 2ms/step - loss: 77.9065 - accuracy: 0.3726\n",
      "Epoch 9/10\n",
      "18/18 [==============================] - 0s 2ms/step - loss: 63.7194 - accuracy: 0.3726\n",
      "Epoch 10/10\n",
      "18/18 [==============================] - 0s 2ms/step - loss: 49.3302 - accuracy: 0.3743\n"
     ]
    },
    {
     "data": {
      "text/plain": [
       "<keras.callbacks.History at 0x22ad8ae1730>"
      ]
     },
     "execution_count": 22,
     "metadata": {},
     "output_type": "execute_result"
    }
   ],
   "source": [
    "model.fit(x, y, epochs=10, verbose=1)"
   ]
  },
  {
   "cell_type": "code",
   "execution_count": 25,
   "metadata": {},
   "outputs": [
    {
     "data": {
      "text/plain": [
       "array([0., 0., 0., 0., 0.], dtype=float32)"
      ]
     },
     "execution_count": 25,
     "metadata": {},
     "output_type": "execute_result"
    }
   ],
   "source": [
    "y_pred = model.predict(x)\n",
    "for idx, val in enumerate(y_pred):\n",
    "    if val >= 0.5 :\n",
    "        y_pred[idx] = 1\n",
    "    else :\n",
    "        y_pred[idx] = 0\n",
    "y_pred[:5].reshape(-1)"
   ]
  },
  {
   "cell_type": "code",
   "execution_count": 26,
   "metadata": {},
   "outputs": [
    {
     "data": {
      "text/plain": [
       "array([0, 0, 0, 0, 0])"
      ]
     },
     "execution_count": 26,
     "metadata": {},
     "output_type": "execute_result"
    }
   ],
   "source": [
    "y[:5]"
   ]
  },
  {
   "cell_type": "code",
   "execution_count": null,
   "metadata": {},
   "outputs": [],
   "source": []
  }
 ],
 "metadata": {
  "colab": {
   "collapsed_sections": [],
   "name": "1_2_Seq_Exercise.ipynb",
   "provenance": []
  },
  "kernelspec": {
   "display_name": "Python 3",
   "language": "python",
   "name": "python3"
  },
  "language_info": {
   "codemirror_mode": {
    "name": "ipython",
    "version": 3
   },
   "file_extension": ".py",
   "mimetype": "text/x-python",
   "name": "python",
   "nbconvert_exporter": "python",
   "pygments_lexer": "ipython3",
   "version": "3.8.8"
  }
 },
 "nbformat": 4,
 "nbformat_minor": 1
}
